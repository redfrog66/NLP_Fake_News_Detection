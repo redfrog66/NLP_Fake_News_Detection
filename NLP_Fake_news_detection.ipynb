{
  "nbformat": 4,
  "nbformat_minor": 0,
  "metadata": {
    "colab": {
      "provenance": [],
      "gpuType": "T4",
      "authorship_tag": "ABX9TyNlv6iIOh8lOddk6zZtuaqY",
      "include_colab_link": true
    },
    "kernelspec": {
      "name": "python3",
      "display_name": "Python 3"
    },
    "language_info": {
      "name": "python"
    },
    "accelerator": "GPU"
  },
  "cells": [
    {
      "cell_type": "markdown",
      "metadata": {
        "id": "view-in-github",
        "colab_type": "text"
      },
      "source": [
        "<a href=\"https://colab.research.google.com/github/redfrog66/NLP_Fake_News_Detection/blob/main/NLP_Fake_news_detection.ipynb\" target=\"_parent\"><img src=\"https://colab.research.google.com/assets/colab-badge.svg\" alt=\"Open In Colab\"/></a>"
      ]
    },
    {
      "cell_type": "markdown",
      "source": [
        "# Fake news detection using NLP"
      ],
      "metadata": {
        "id": "-1hxDCu8gp3l"
      }
    },
    {
      "cell_type": "markdown",
      "source": [
        "Load the dataset:"
      ],
      "metadata": {
        "id": "evxoR7CfhF3Z"
      }
    },
    {
      "cell_type": "code",
      "execution_count": 78,
      "metadata": {
        "id": "LUMklAuughvd"
      },
      "outputs": [],
      "source": [
        "import pandas as pd\n",
        "\n",
        "splits = {'train': 'data/train-00000-of-00001.parquet', 'validation': 'data/validation-00000-of-00001.parquet', 'test': 'data/test-00000-of-00001.parquet'}\n",
        "df_train = pd.read_parquet(\"hf://datasets/GonzaloA/fake_news/\" + splits[\"train\"])\n",
        "df_validation = pd.read_parquet(\"hf://datasets/GonzaloA/fake_news/\" + splits[\"validation\"])\n",
        "df_test = pd.read_parquet(\"hf://datasets/GonzaloA/fake_news/\" + splits[\"test\"])\n",
        "\n",
        "df = pd.concat([df_train,df_validation,df_test])"
      ]
    },
    {
      "cell_type": "code",
      "source": [
        "df.info()\n",
        "df.head()"
      ],
      "metadata": {
        "colab": {
          "base_uri": "https://localhost:8080/",
          "height": 362
        },
        "id": "8lBMSDfNsEYU",
        "outputId": "a17594a3-c717-4076-e199-83de88ad427f"
      },
      "execution_count": 84,
      "outputs": [
        {
          "output_type": "stream",
          "name": "stdout",
          "text": [
            "<class 'pandas.core.frame.DataFrame'>\n",
            "Index: 40587 entries, 0 to 8116\n",
            "Data columns (total 2 columns):\n",
            " #   Column  Non-Null Count  Dtype \n",
            "---  ------  --------------  ----- \n",
            " 0   text    40587 non-null  object\n",
            " 1   label   40587 non-null  int64 \n",
            "dtypes: int64(1), object(1)\n",
            "memory usage: 951.3+ KB\n"
          ]
        },
        {
          "output_type": "execute_result",
          "data": {
            "text/plain": [
              "                                                text  label\n",
              "0  maury is perhaps one of the trashiest shows on...      0\n",
              "1  yesterday  after the father of one of the ucla...      0\n",
              "2  moscow  reuters    russia on wednesday warned ...      1\n",
              "3  house majority whip steve scalise  r   la   th...      0\n",
              "4  it can be said that late show host stephen col...      0"
            ],
            "text/html": [
              "\n",
              "  <div id=\"df-ea992461-fd7b-4f38-ab05-63aed897108a\" class=\"colab-df-container\">\n",
              "    <div>\n",
              "<style scoped>\n",
              "    .dataframe tbody tr th:only-of-type {\n",
              "        vertical-align: middle;\n",
              "    }\n",
              "\n",
              "    .dataframe tbody tr th {\n",
              "        vertical-align: top;\n",
              "    }\n",
              "\n",
              "    .dataframe thead th {\n",
              "        text-align: right;\n",
              "    }\n",
              "</style>\n",
              "<table border=\"1\" class=\"dataframe\">\n",
              "  <thead>\n",
              "    <tr style=\"text-align: right;\">\n",
              "      <th></th>\n",
              "      <th>text</th>\n",
              "      <th>label</th>\n",
              "    </tr>\n",
              "  </thead>\n",
              "  <tbody>\n",
              "    <tr>\n",
              "      <th>0</th>\n",
              "      <td>maury is perhaps one of the trashiest shows on...</td>\n",
              "      <td>0</td>\n",
              "    </tr>\n",
              "    <tr>\n",
              "      <th>1</th>\n",
              "      <td>yesterday  after the father of one of the ucla...</td>\n",
              "      <td>0</td>\n",
              "    </tr>\n",
              "    <tr>\n",
              "      <th>2</th>\n",
              "      <td>moscow  reuters    russia on wednesday warned ...</td>\n",
              "      <td>1</td>\n",
              "    </tr>\n",
              "    <tr>\n",
              "      <th>3</th>\n",
              "      <td>house majority whip steve scalise  r   la   th...</td>\n",
              "      <td>0</td>\n",
              "    </tr>\n",
              "    <tr>\n",
              "      <th>4</th>\n",
              "      <td>it can be said that late show host stephen col...</td>\n",
              "      <td>0</td>\n",
              "    </tr>\n",
              "  </tbody>\n",
              "</table>\n",
              "</div>\n",
              "    <div class=\"colab-df-buttons\">\n",
              "\n",
              "  <div class=\"colab-df-container\">\n",
              "    <button class=\"colab-df-convert\" onclick=\"convertToInteractive('df-ea992461-fd7b-4f38-ab05-63aed897108a')\"\n",
              "            title=\"Convert this dataframe to an interactive table.\"\n",
              "            style=\"display:none;\">\n",
              "\n",
              "  <svg xmlns=\"http://www.w3.org/2000/svg\" height=\"24px\" viewBox=\"0 -960 960 960\">\n",
              "    <path d=\"M120-120v-720h720v720H120Zm60-500h600v-160H180v160Zm220 220h160v-160H400v160Zm0 220h160v-160H400v160ZM180-400h160v-160H180v160Zm440 0h160v-160H620v160ZM180-180h160v-160H180v160Zm440 0h160v-160H620v160Z\"/>\n",
              "  </svg>\n",
              "    </button>\n",
              "\n",
              "  <style>\n",
              "    .colab-df-container {\n",
              "      display:flex;\n",
              "      gap: 12px;\n",
              "    }\n",
              "\n",
              "    .colab-df-convert {\n",
              "      background-color: #E8F0FE;\n",
              "      border: none;\n",
              "      border-radius: 50%;\n",
              "      cursor: pointer;\n",
              "      display: none;\n",
              "      fill: #1967D2;\n",
              "      height: 32px;\n",
              "      padding: 0 0 0 0;\n",
              "      width: 32px;\n",
              "    }\n",
              "\n",
              "    .colab-df-convert:hover {\n",
              "      background-color: #E2EBFA;\n",
              "      box-shadow: 0px 1px 2px rgba(60, 64, 67, 0.3), 0px 1px 3px 1px rgba(60, 64, 67, 0.15);\n",
              "      fill: #174EA6;\n",
              "    }\n",
              "\n",
              "    .colab-df-buttons div {\n",
              "      margin-bottom: 4px;\n",
              "    }\n",
              "\n",
              "    [theme=dark] .colab-df-convert {\n",
              "      background-color: #3B4455;\n",
              "      fill: #D2E3FC;\n",
              "    }\n",
              "\n",
              "    [theme=dark] .colab-df-convert:hover {\n",
              "      background-color: #434B5C;\n",
              "      box-shadow: 0px 1px 3px 1px rgba(0, 0, 0, 0.15);\n",
              "      filter: drop-shadow(0px 1px 2px rgba(0, 0, 0, 0.3));\n",
              "      fill: #FFFFFF;\n",
              "    }\n",
              "  </style>\n",
              "\n",
              "    <script>\n",
              "      const buttonEl =\n",
              "        document.querySelector('#df-ea992461-fd7b-4f38-ab05-63aed897108a button.colab-df-convert');\n",
              "      buttonEl.style.display =\n",
              "        google.colab.kernel.accessAllowed ? 'block' : 'none';\n",
              "\n",
              "      async function convertToInteractive(key) {\n",
              "        const element = document.querySelector('#df-ea992461-fd7b-4f38-ab05-63aed897108a');\n",
              "        const dataTable =\n",
              "          await google.colab.kernel.invokeFunction('convertToInteractive',\n",
              "                                                    [key], {});\n",
              "        if (!dataTable) return;\n",
              "\n",
              "        const docLinkHtml = 'Like what you see? Visit the ' +\n",
              "          '<a target=\"_blank\" href=https://colab.research.google.com/notebooks/data_table.ipynb>data table notebook</a>'\n",
              "          + ' to learn more about interactive tables.';\n",
              "        element.innerHTML = '';\n",
              "        dataTable['output_type'] = 'display_data';\n",
              "        await google.colab.output.renderOutput(dataTable, element);\n",
              "        const docLink = document.createElement('div');\n",
              "        docLink.innerHTML = docLinkHtml;\n",
              "        element.appendChild(docLink);\n",
              "      }\n",
              "    </script>\n",
              "  </div>\n",
              "\n",
              "\n",
              "    <div id=\"df-04f14ff2-8991-4ada-9a33-88e108aafd0b\">\n",
              "      <button class=\"colab-df-quickchart\" onclick=\"quickchart('df-04f14ff2-8991-4ada-9a33-88e108aafd0b')\"\n",
              "                title=\"Suggest charts\"\n",
              "                style=\"display:none;\">\n",
              "\n",
              "<svg xmlns=\"http://www.w3.org/2000/svg\" height=\"24px\"viewBox=\"0 0 24 24\"\n",
              "     width=\"24px\">\n",
              "    <g>\n",
              "        <path d=\"M19 3H5c-1.1 0-2 .9-2 2v14c0 1.1.9 2 2 2h14c1.1 0 2-.9 2-2V5c0-1.1-.9-2-2-2zM9 17H7v-7h2v7zm4 0h-2V7h2v10zm4 0h-2v-4h2v4z\"/>\n",
              "    </g>\n",
              "</svg>\n",
              "      </button>\n",
              "\n",
              "<style>\n",
              "  .colab-df-quickchart {\n",
              "      --bg-color: #E8F0FE;\n",
              "      --fill-color: #1967D2;\n",
              "      --hover-bg-color: #E2EBFA;\n",
              "      --hover-fill-color: #174EA6;\n",
              "      --disabled-fill-color: #AAA;\n",
              "      --disabled-bg-color: #DDD;\n",
              "  }\n",
              "\n",
              "  [theme=dark] .colab-df-quickchart {\n",
              "      --bg-color: #3B4455;\n",
              "      --fill-color: #D2E3FC;\n",
              "      --hover-bg-color: #434B5C;\n",
              "      --hover-fill-color: #FFFFFF;\n",
              "      --disabled-bg-color: #3B4455;\n",
              "      --disabled-fill-color: #666;\n",
              "  }\n",
              "\n",
              "  .colab-df-quickchart {\n",
              "    background-color: var(--bg-color);\n",
              "    border: none;\n",
              "    border-radius: 50%;\n",
              "    cursor: pointer;\n",
              "    display: none;\n",
              "    fill: var(--fill-color);\n",
              "    height: 32px;\n",
              "    padding: 0;\n",
              "    width: 32px;\n",
              "  }\n",
              "\n",
              "  .colab-df-quickchart:hover {\n",
              "    background-color: var(--hover-bg-color);\n",
              "    box-shadow: 0 1px 2px rgba(60, 64, 67, 0.3), 0 1px 3px 1px rgba(60, 64, 67, 0.15);\n",
              "    fill: var(--button-hover-fill-color);\n",
              "  }\n",
              "\n",
              "  .colab-df-quickchart-complete:disabled,\n",
              "  .colab-df-quickchart-complete:disabled:hover {\n",
              "    background-color: var(--disabled-bg-color);\n",
              "    fill: var(--disabled-fill-color);\n",
              "    box-shadow: none;\n",
              "  }\n",
              "\n",
              "  .colab-df-spinner {\n",
              "    border: 2px solid var(--fill-color);\n",
              "    border-color: transparent;\n",
              "    border-bottom-color: var(--fill-color);\n",
              "    animation:\n",
              "      spin 1s steps(1) infinite;\n",
              "  }\n",
              "\n",
              "  @keyframes spin {\n",
              "    0% {\n",
              "      border-color: transparent;\n",
              "      border-bottom-color: var(--fill-color);\n",
              "      border-left-color: var(--fill-color);\n",
              "    }\n",
              "    20% {\n",
              "      border-color: transparent;\n",
              "      border-left-color: var(--fill-color);\n",
              "      border-top-color: var(--fill-color);\n",
              "    }\n",
              "    30% {\n",
              "      border-color: transparent;\n",
              "      border-left-color: var(--fill-color);\n",
              "      border-top-color: var(--fill-color);\n",
              "      border-right-color: var(--fill-color);\n",
              "    }\n",
              "    40% {\n",
              "      border-color: transparent;\n",
              "      border-right-color: var(--fill-color);\n",
              "      border-top-color: var(--fill-color);\n",
              "    }\n",
              "    60% {\n",
              "      border-color: transparent;\n",
              "      border-right-color: var(--fill-color);\n",
              "    }\n",
              "    80% {\n",
              "      border-color: transparent;\n",
              "      border-right-color: var(--fill-color);\n",
              "      border-bottom-color: var(--fill-color);\n",
              "    }\n",
              "    90% {\n",
              "      border-color: transparent;\n",
              "      border-bottom-color: var(--fill-color);\n",
              "    }\n",
              "  }\n",
              "</style>\n",
              "\n",
              "      <script>\n",
              "        async function quickchart(key) {\n",
              "          const quickchartButtonEl =\n",
              "            document.querySelector('#' + key + ' button');\n",
              "          quickchartButtonEl.disabled = true;  // To prevent multiple clicks.\n",
              "          quickchartButtonEl.classList.add('colab-df-spinner');\n",
              "          try {\n",
              "            const charts = await google.colab.kernel.invokeFunction(\n",
              "                'suggestCharts', [key], {});\n",
              "          } catch (error) {\n",
              "            console.error('Error during call to suggestCharts:', error);\n",
              "          }\n",
              "          quickchartButtonEl.classList.remove('colab-df-spinner');\n",
              "          quickchartButtonEl.classList.add('colab-df-quickchart-complete');\n",
              "        }\n",
              "        (() => {\n",
              "          let quickchartButtonEl =\n",
              "            document.querySelector('#df-04f14ff2-8991-4ada-9a33-88e108aafd0b button');\n",
              "          quickchartButtonEl.style.display =\n",
              "            google.colab.kernel.accessAllowed ? 'block' : 'none';\n",
              "        })();\n",
              "      </script>\n",
              "    </div>\n",
              "\n",
              "    </div>\n",
              "  </div>\n"
            ],
            "application/vnd.google.colaboratory.intrinsic+json": {
              "type": "dataframe",
              "variable_name": "df",
              "summary": "{\n  \"name\": \"df\",\n  \"rows\": 40587,\n  \"fields\": [\n    {\n      \"column\": \"text\",\n      \"properties\": {\n        \"dtype\": \"string\",\n        \"num_unique_values\": 40277,\n        \"samples\": [\n          \"tune in to the alternate current radio network  acr  for another live broadcast of  the boiler room  tonight     pm pst       pm cst       pm est for this special broadcast  join us for uncensored  uninterruptible talk radio  custom made for bar fly philosophers  misguided moralists  masochists  street corner evangelists  media maniacs  savants  political animals and otherwise lovable rascals join acr hosts hesher and spore along with guests for the hundred and fifth episode of boiler room  turn it up  tune in and hang with the acr brain trust for this weeks boil downs and analysis and the usual gnashing of the teeth of the political animals in the social reject club  listen to  boiler room ep      quantum swamp chess  on spreaker direct download episode    like and share the program and visit our donate page to get involved reference links \",\n          \"cairo  reuters    egypt s coptic church has rejected a meeting requested by u s  vice president mike pence during his visit later this month in protest against washington s decision to recognize jerusalem as israel s capital  mena state news agency reported on saturday  the church  excused itself from hosting mike pence  when he visits egypt  citing president donald trump s decision  at an unsuitable time and without consideration for the feelings of millions of people   mena said  \",\n          \"washington  reuters    the top republican in the u s  congress dimmed hopes that lawmakers might end the embargo on cuba after president barack obama leaves office  saying on tuesday he intends to keep the trade restrictions in place   as the past two years of normalizing relations have only emboldened the regime at the expense of the cuban people  i fully intend to maintain our embargo on cuba   u s  house of representatives speaker paul ryan said in a statement  the obama administration has been easing restrictions on dealings with cuba since the surprise announcement in   by obama and cuban president raul castro that the long time foes would move toward more normal relations  on friday  the white house announced new measures to further ease trade  travel and financial restrictions  including allowing american travelers to bring home more of the country s coveted cigars and rum   but the half century long embargo can only be lifted fully by congress  which is controlled by ryan s republicans  while some join most of obama s fellow democrats in backing the new policies  party leaders have opposed legislation to ease restrictions  some lawmakers had hoped attitudes in congress might soften after obama leaves office in january  even if democrats do not win majorities in the house and senate  especially with americans accustomed to two years of freer travel and business  cuban relations often come to the fore during u s  election campaigns  pro embargo cuban americans are an important republican voting bloc in florida  which often has close congressional races and is one of the swing states that can decide presidential elections  ryan termed obama s actions  efforts to appease the oppressive regime  in cuba  he said they would strengthen its government and endanger u s  companies  intellectual property rights  backers of obama s policy say half a century of restrictions on trade and travel have not ended cuban communism  and are not worth denying u s  citizens freedom of travel and u s  companies the chance to do business there         \"\n        ],\n        \"semantic_type\": \"\",\n        \"description\": \"\"\n      }\n    },\n    {\n      \"column\": \"label\",\n      \"properties\": {\n        \"dtype\": \"number\",\n        \"std\": 0,\n        \"min\": 0,\n        \"max\": 1,\n        \"num_unique_values\": 2,\n        \"samples\": [\n          1,\n          0\n        ],\n        \"semantic_type\": \"\",\n        \"description\": \"\"\n      }\n    }\n  ]\n}"
            }
          },
          "metadata": {},
          "execution_count": 84
        }
      ]
    },
    {
      "cell_type": "markdown",
      "source": [
        "Drop unwanted properties"
      ],
      "metadata": {
        "id": "LJ_vDKvItNZ0"
      }
    },
    {
      "cell_type": "code",
      "source": [
        "df = df.drop(['Unnamed: 0', 'title'], axis=1)"
      ],
      "metadata": {
        "id": "ZXjiIYhjtUO0"
      },
      "execution_count": 80,
      "outputs": []
    },
    {
      "cell_type": "markdown",
      "source": [
        "Text preprocessing"
      ],
      "metadata": {
        "id": "oDAbLMRv3IFL"
      }
    },
    {
      "cell_type": "code",
      "source": [
        "import re\n",
        "import string\n",
        "def preprocess_text(text):\n",
        "  text = text.lower()\n",
        "  text = re.sub(r'\\[.*?\\]|\\W|https?://\\S+|www\\.\\S+|<.*?>+|\\n|\\w*\\d\\w*', ' ', text)\n",
        "  return text\n",
        "df['text'] = df['text'].fillna('').apply(preprocess_text)"
      ],
      "metadata": {
        "id": "8QWw9ck_uH3I"
      },
      "execution_count": 81,
      "outputs": []
    },
    {
      "cell_type": "markdown",
      "source": [
        "Delete empty rows"
      ],
      "metadata": {
        "id": "rTZ3qslS3LLp"
      }
    },
    {
      "cell_type": "code",
      "source": [
        "empty_rows_count = (df['text'].str.strip() == '').sum()\n",
        "empty_rows_count"
      ],
      "metadata": {
        "colab": {
          "base_uri": "https://localhost:8080/"
        },
        "id": "VJYgcHN69TZF",
        "outputId": "f85626c0-1d64-4da0-d2f1-96ac4ae3e0f6"
      },
      "execution_count": 85,
      "outputs": [
        {
          "output_type": "execute_result",
          "data": {
            "text/plain": [
              "np.int64(57)"
            ]
          },
          "metadata": {},
          "execution_count": 85
        }
      ]
    },
    {
      "cell_type": "code",
      "source": [
        "df = df[df['text'].str.strip().astype(bool)]"
      ],
      "metadata": {
        "id": "Qh7evn73x4mf"
      },
      "execution_count": 86,
      "outputs": []
    },
    {
      "cell_type": "code",
      "source": [
        "df.head()"
      ],
      "metadata": {
        "colab": {
          "base_uri": "https://localhost:8080/",
          "height": 206
        },
        "id": "2ZkD37FP1iL6",
        "outputId": "14aa2e1e-665f-4f55-8791-1c001abc298d"
      },
      "execution_count": 87,
      "outputs": [
        {
          "output_type": "execute_result",
          "data": {
            "text/plain": [
              "                                                text  label\n",
              "0  maury is perhaps one of the trashiest shows on...      0\n",
              "1  yesterday  after the father of one of the ucla...      0\n",
              "2  moscow  reuters    russia on wednesday warned ...      1\n",
              "3  house majority whip steve scalise  r   la   th...      0\n",
              "4  it can be said that late show host stephen col...      0"
            ],
            "text/html": [
              "\n",
              "  <div id=\"df-e9bcf94c-9170-42bd-9c63-ebadd53936e9\" class=\"colab-df-container\">\n",
              "    <div>\n",
              "<style scoped>\n",
              "    .dataframe tbody tr th:only-of-type {\n",
              "        vertical-align: middle;\n",
              "    }\n",
              "\n",
              "    .dataframe tbody tr th {\n",
              "        vertical-align: top;\n",
              "    }\n",
              "\n",
              "    .dataframe thead th {\n",
              "        text-align: right;\n",
              "    }\n",
              "</style>\n",
              "<table border=\"1\" class=\"dataframe\">\n",
              "  <thead>\n",
              "    <tr style=\"text-align: right;\">\n",
              "      <th></th>\n",
              "      <th>text</th>\n",
              "      <th>label</th>\n",
              "    </tr>\n",
              "  </thead>\n",
              "  <tbody>\n",
              "    <tr>\n",
              "      <th>0</th>\n",
              "      <td>maury is perhaps one of the trashiest shows on...</td>\n",
              "      <td>0</td>\n",
              "    </tr>\n",
              "    <tr>\n",
              "      <th>1</th>\n",
              "      <td>yesterday  after the father of one of the ucla...</td>\n",
              "      <td>0</td>\n",
              "    </tr>\n",
              "    <tr>\n",
              "      <th>2</th>\n",
              "      <td>moscow  reuters    russia on wednesday warned ...</td>\n",
              "      <td>1</td>\n",
              "    </tr>\n",
              "    <tr>\n",
              "      <th>3</th>\n",
              "      <td>house majority whip steve scalise  r   la   th...</td>\n",
              "      <td>0</td>\n",
              "    </tr>\n",
              "    <tr>\n",
              "      <th>4</th>\n",
              "      <td>it can be said that late show host stephen col...</td>\n",
              "      <td>0</td>\n",
              "    </tr>\n",
              "  </tbody>\n",
              "</table>\n",
              "</div>\n",
              "    <div class=\"colab-df-buttons\">\n",
              "\n",
              "  <div class=\"colab-df-container\">\n",
              "    <button class=\"colab-df-convert\" onclick=\"convertToInteractive('df-e9bcf94c-9170-42bd-9c63-ebadd53936e9')\"\n",
              "            title=\"Convert this dataframe to an interactive table.\"\n",
              "            style=\"display:none;\">\n",
              "\n",
              "  <svg xmlns=\"http://www.w3.org/2000/svg\" height=\"24px\" viewBox=\"0 -960 960 960\">\n",
              "    <path d=\"M120-120v-720h720v720H120Zm60-500h600v-160H180v160Zm220 220h160v-160H400v160Zm0 220h160v-160H400v160ZM180-400h160v-160H180v160Zm440 0h160v-160H620v160ZM180-180h160v-160H180v160Zm440 0h160v-160H620v160Z\"/>\n",
              "  </svg>\n",
              "    </button>\n",
              "\n",
              "  <style>\n",
              "    .colab-df-container {\n",
              "      display:flex;\n",
              "      gap: 12px;\n",
              "    }\n",
              "\n",
              "    .colab-df-convert {\n",
              "      background-color: #E8F0FE;\n",
              "      border: none;\n",
              "      border-radius: 50%;\n",
              "      cursor: pointer;\n",
              "      display: none;\n",
              "      fill: #1967D2;\n",
              "      height: 32px;\n",
              "      padding: 0 0 0 0;\n",
              "      width: 32px;\n",
              "    }\n",
              "\n",
              "    .colab-df-convert:hover {\n",
              "      background-color: #E2EBFA;\n",
              "      box-shadow: 0px 1px 2px rgba(60, 64, 67, 0.3), 0px 1px 3px 1px rgba(60, 64, 67, 0.15);\n",
              "      fill: #174EA6;\n",
              "    }\n",
              "\n",
              "    .colab-df-buttons div {\n",
              "      margin-bottom: 4px;\n",
              "    }\n",
              "\n",
              "    [theme=dark] .colab-df-convert {\n",
              "      background-color: #3B4455;\n",
              "      fill: #D2E3FC;\n",
              "    }\n",
              "\n",
              "    [theme=dark] .colab-df-convert:hover {\n",
              "      background-color: #434B5C;\n",
              "      box-shadow: 0px 1px 3px 1px rgba(0, 0, 0, 0.15);\n",
              "      filter: drop-shadow(0px 1px 2px rgba(0, 0, 0, 0.3));\n",
              "      fill: #FFFFFF;\n",
              "    }\n",
              "  </style>\n",
              "\n",
              "    <script>\n",
              "      const buttonEl =\n",
              "        document.querySelector('#df-e9bcf94c-9170-42bd-9c63-ebadd53936e9 button.colab-df-convert');\n",
              "      buttonEl.style.display =\n",
              "        google.colab.kernel.accessAllowed ? 'block' : 'none';\n",
              "\n",
              "      async function convertToInteractive(key) {\n",
              "        const element = document.querySelector('#df-e9bcf94c-9170-42bd-9c63-ebadd53936e9');\n",
              "        const dataTable =\n",
              "          await google.colab.kernel.invokeFunction('convertToInteractive',\n",
              "                                                    [key], {});\n",
              "        if (!dataTable) return;\n",
              "\n",
              "        const docLinkHtml = 'Like what you see? Visit the ' +\n",
              "          '<a target=\"_blank\" href=https://colab.research.google.com/notebooks/data_table.ipynb>data table notebook</a>'\n",
              "          + ' to learn more about interactive tables.';\n",
              "        element.innerHTML = '';\n",
              "        dataTable['output_type'] = 'display_data';\n",
              "        await google.colab.output.renderOutput(dataTable, element);\n",
              "        const docLink = document.createElement('div');\n",
              "        docLink.innerHTML = docLinkHtml;\n",
              "        element.appendChild(docLink);\n",
              "      }\n",
              "    </script>\n",
              "  </div>\n",
              "\n",
              "\n",
              "    <div id=\"df-2c315089-40ff-4428-bc2a-db93689524dc\">\n",
              "      <button class=\"colab-df-quickchart\" onclick=\"quickchart('df-2c315089-40ff-4428-bc2a-db93689524dc')\"\n",
              "                title=\"Suggest charts\"\n",
              "                style=\"display:none;\">\n",
              "\n",
              "<svg xmlns=\"http://www.w3.org/2000/svg\" height=\"24px\"viewBox=\"0 0 24 24\"\n",
              "     width=\"24px\">\n",
              "    <g>\n",
              "        <path d=\"M19 3H5c-1.1 0-2 .9-2 2v14c0 1.1.9 2 2 2h14c1.1 0 2-.9 2-2V5c0-1.1-.9-2-2-2zM9 17H7v-7h2v7zm4 0h-2V7h2v10zm4 0h-2v-4h2v4z\"/>\n",
              "    </g>\n",
              "</svg>\n",
              "      </button>\n",
              "\n",
              "<style>\n",
              "  .colab-df-quickchart {\n",
              "      --bg-color: #E8F0FE;\n",
              "      --fill-color: #1967D2;\n",
              "      --hover-bg-color: #E2EBFA;\n",
              "      --hover-fill-color: #174EA6;\n",
              "      --disabled-fill-color: #AAA;\n",
              "      --disabled-bg-color: #DDD;\n",
              "  }\n",
              "\n",
              "  [theme=dark] .colab-df-quickchart {\n",
              "      --bg-color: #3B4455;\n",
              "      --fill-color: #D2E3FC;\n",
              "      --hover-bg-color: #434B5C;\n",
              "      --hover-fill-color: #FFFFFF;\n",
              "      --disabled-bg-color: #3B4455;\n",
              "      --disabled-fill-color: #666;\n",
              "  }\n",
              "\n",
              "  .colab-df-quickchart {\n",
              "    background-color: var(--bg-color);\n",
              "    border: none;\n",
              "    border-radius: 50%;\n",
              "    cursor: pointer;\n",
              "    display: none;\n",
              "    fill: var(--fill-color);\n",
              "    height: 32px;\n",
              "    padding: 0;\n",
              "    width: 32px;\n",
              "  }\n",
              "\n",
              "  .colab-df-quickchart:hover {\n",
              "    background-color: var(--hover-bg-color);\n",
              "    box-shadow: 0 1px 2px rgba(60, 64, 67, 0.3), 0 1px 3px 1px rgba(60, 64, 67, 0.15);\n",
              "    fill: var(--button-hover-fill-color);\n",
              "  }\n",
              "\n",
              "  .colab-df-quickchart-complete:disabled,\n",
              "  .colab-df-quickchart-complete:disabled:hover {\n",
              "    background-color: var(--disabled-bg-color);\n",
              "    fill: var(--disabled-fill-color);\n",
              "    box-shadow: none;\n",
              "  }\n",
              "\n",
              "  .colab-df-spinner {\n",
              "    border: 2px solid var(--fill-color);\n",
              "    border-color: transparent;\n",
              "    border-bottom-color: var(--fill-color);\n",
              "    animation:\n",
              "      spin 1s steps(1) infinite;\n",
              "  }\n",
              "\n",
              "  @keyframes spin {\n",
              "    0% {\n",
              "      border-color: transparent;\n",
              "      border-bottom-color: var(--fill-color);\n",
              "      border-left-color: var(--fill-color);\n",
              "    }\n",
              "    20% {\n",
              "      border-color: transparent;\n",
              "      border-left-color: var(--fill-color);\n",
              "      border-top-color: var(--fill-color);\n",
              "    }\n",
              "    30% {\n",
              "      border-color: transparent;\n",
              "      border-left-color: var(--fill-color);\n",
              "      border-top-color: var(--fill-color);\n",
              "      border-right-color: var(--fill-color);\n",
              "    }\n",
              "    40% {\n",
              "      border-color: transparent;\n",
              "      border-right-color: var(--fill-color);\n",
              "      border-top-color: var(--fill-color);\n",
              "    }\n",
              "    60% {\n",
              "      border-color: transparent;\n",
              "      border-right-color: var(--fill-color);\n",
              "    }\n",
              "    80% {\n",
              "      border-color: transparent;\n",
              "      border-right-color: var(--fill-color);\n",
              "      border-bottom-color: var(--fill-color);\n",
              "    }\n",
              "    90% {\n",
              "      border-color: transparent;\n",
              "      border-bottom-color: var(--fill-color);\n",
              "    }\n",
              "  }\n",
              "</style>\n",
              "\n",
              "      <script>\n",
              "        async function quickchart(key) {\n",
              "          const quickchartButtonEl =\n",
              "            document.querySelector('#' + key + ' button');\n",
              "          quickchartButtonEl.disabled = true;  // To prevent multiple clicks.\n",
              "          quickchartButtonEl.classList.add('colab-df-spinner');\n",
              "          try {\n",
              "            const charts = await google.colab.kernel.invokeFunction(\n",
              "                'suggestCharts', [key], {});\n",
              "          } catch (error) {\n",
              "            console.error('Error during call to suggestCharts:', error);\n",
              "          }\n",
              "          quickchartButtonEl.classList.remove('colab-df-spinner');\n",
              "          quickchartButtonEl.classList.add('colab-df-quickchart-complete');\n",
              "        }\n",
              "        (() => {\n",
              "          let quickchartButtonEl =\n",
              "            document.querySelector('#df-2c315089-40ff-4428-bc2a-db93689524dc button');\n",
              "          quickchartButtonEl.style.display =\n",
              "            google.colab.kernel.accessAllowed ? 'block' : 'none';\n",
              "        })();\n",
              "      </script>\n",
              "    </div>\n",
              "\n",
              "    </div>\n",
              "  </div>\n"
            ],
            "application/vnd.google.colaboratory.intrinsic+json": {
              "type": "dataframe",
              "variable_name": "df",
              "summary": "{\n  \"name\": \"df\",\n  \"rows\": 40530,\n  \"fields\": [\n    {\n      \"column\": \"text\",\n      \"properties\": {\n        \"dtype\": \"string\",\n        \"num_unique_values\": 40273,\n        \"samples\": [\n          \"washington  reuters    u s  house speaker paul ryan said on thursday that he saw no point in bringing up the trans pacific partnership trade deal for a vote in any  lame duck  session of congress later this year after november elections  because  we don t have the votes    as long as we don t have the votes  i see no point in bringing up an agreement only to defeat it   ryan  a republican  said in an interview with wisconsin public radio   despite both u s  presidential candidates bashing the   country pacific trade deal on the campaign trail  obama administration officials have pledged to make a major push in coming months to persuade the republican majority congress to pass tpp   backed by dozens of business and industry groups  officials  from the u s  commerce department  the u s  trade representative s office and the white house say they are continuing to talk with individual lawmakers about the merits of the deal  including its consequences for u s  leadership in asia   but ryan said the obama administration had negotiated a deal that  cost them dozens of votes in congress   and said the democratic president needed to renegotiate some components  the speaker said some agricultural and labor provisions needed fixing  and he also believed the deal would reduce intellectual property rights for biologic drugs and pharmaceuticals  for u s  drugmakers the deal could reduce the patent protection period to eight years from the current    senator orrin hatch  the influential republican chairman of the senate finance committee  has also raised this as a major problem with the deal   they have to fix this agreement and renegotiate some pieces of it if they have any hope or chance of passing it   ryan said in the radio interview  but added that he was doubtful this could happen   i don t see how they ll ever get the votes for it   \",\n          \"washington  reuters    the u s  supreme court ruled on tuesday that a former police detective can sue a new jersey city claiming he was demoted as punishment after getting a campaign sign for his bedridden mother supporting the mayor s rival in a   local election  the court  in its     ruling  found that jeffrey heffernan  a now former member of paterson s police force  was not in fact exercising his rights to freedom of association under the u s  constitution s first amendment because he picked up the sign for his mother and not himself  but the justices decided he could sue the city for violating those rights because the boss who demoted him believed  albeit mistakenly  that heffernan supported the mayor s opponent   we conclude that     the government s reason for demoting heffernan is what counts here   justice stephen breyer wrote for the court   when an employer demotes an employee out of a desire to prevent the employee from engaging in political activity that the first amendment protects  the employee is entitled to challenge that unlawful action     even if  as here  the employer makes a factual mistake about the employee s behavior   the high court reversed a   ruling by the philadelphia based   u s  circuit court of appeals dismissing heffernan s lawsuit on the grounds that a first amendment retaliation claim cannot be based on an employer s perception of a worker s actions  the day before heffernan was demoted  an aide to jose torres  paterson s mayor at the time who was running for re election  saw heffernan getting a large campaign sign backing another mayoral candidate  heffernan said he got the sign while off duty as a favor for his mother after her previous sign had been stolen from her front yard  and that the sign did not reflect his personal preference in the mayoral election  the next day  the police department demoted him from detective and transferred him to the traffic division s walking squad  a move he saw as political retaliation  justice clarence thomas wrote the dissenting opinion  arguing that heffernan should not be able to sue regardless of whether his demotion was misguided or wrong because he had not been exercising his constitutional rights     \",\n          \"atlantic city  n j   reuters    democratic presidential candidate hillary clinton visited the famous boardwalk in atlantic city on wednesday to highlight republican rival donald trump s casino bankruptcies  warning he would bring the same cutthroat approach to managing the u s  economy  clinton  standing next to the shuttered trump plaza casino that trump once owned  said the real estate developer routinely profited from the financial ruin of workers in the economically depressed seaside resort town   the people he s trying to convince to vote for him are the same people he s been exploiting for years   working people  small business people   clinton said  clinton said trump s casino bankruptcies and numerous complaints against him by contractors showed he cannot be trusted to set economic policy from the white house   he makes over the top promises and says if people trust in him  put their faith in him  he ll deliver   she said   then everything falls apart  people get hurt  and donald gets paid   the trump plaza was one of four casinos trump once owned in atlantic city  he left the city after his last bankruptcy  clinton frequently uses criticism of trump s business record to illustrate a principle campaign theme   that the wealthy new yorker is only interested in boosting his financial bottom line  and not concerned about the economic struggles of working americans  clinton reminded supporters who gathered on the boardwalk under a boiling sun  within steps of the city s beach  that trump had promised to  do for the country what i did for my business   she said trump intentionally ran up hundreds of millions of debt on his companies  borrowed at high rates  defaulted on the loans  and left in the lurch the workers and contractors who relied on his casinos for income   that says everything you need to know about donald trump   clinton said   it s not about what he can build  it s about how much he can take   atlantic city has struggled economically in recent years as a series of casinos have closed  the city s   percent unemployment rate is nearly double the national average  and closed buildings pockmark its boardwalk  in an emailed statement  trump defended his bankruptcy filings on casinos and other projects as a commonly used practice to restructure a business and ultimately save jobs   i created thousands of jobs and made a lot of money in atlantic city  which was what  as a businessman  i am supposed to do for my company and my family   and as president i will make america rich again   he said   nobody understands the economy like i do and no one  especially not crooked hillary clinton  will do more for the economy than i will    after the speech  clinton drove a few blocks to shake hands with dozens of striking workers outside the trump taj mahal  another of the casinos that trump once owned  her attack on trump s business dealings came as the presumptive republican presidential nominee blasted her integrity following an fbi report that criticized her use of private email during her tenure as secretary of state  clinton did not address the email issue during her stop in atlantic city  on tuesday  fbi director james comey said the agency would recommend no criminal charges against clinton for her use of private email servers  but comey rebuked her for what he said was  extremely careless  handling of classified material on her email servers  and contradicted her claims that she never transmitted or received classified material on that email system  republican lawmakers criticized comey for what they saw as lax treatment of clinton  and on wednesday  committee chairman jason chaffetz  a republican  announced that comey will testify before the house oversight and government reform committee on thursday to explain the bureau s  surprising and confusing  recommendation  the fbi has been investigating whether clinton broke the law as result of personal email servers kept in her chappaqua  new york  home while she was secretary of state from   to    including whether she mishandled classified information on the servers  \"\n        ],\n        \"semantic_type\": \"\",\n        \"description\": \"\"\n      }\n    },\n    {\n      \"column\": \"label\",\n      \"properties\": {\n        \"dtype\": \"number\",\n        \"std\": 0,\n        \"min\": 0,\n        \"max\": 1,\n        \"num_unique_values\": 2,\n        \"samples\": [\n          1,\n          0\n        ],\n        \"semantic_type\": \"\",\n        \"description\": \"\"\n      }\n    }\n  ]\n}"
            }
          },
          "metadata": {},
          "execution_count": 87
        }
      ]
    },
    {
      "cell_type": "markdown",
      "source": [
        "Split data to train and test"
      ],
      "metadata": {
        "id": "plQtO_SXAyyc"
      }
    },
    {
      "cell_type": "code",
      "source": [
        "from sklearn.model_selection import train_test_split\n",
        "x = df['text']\n",
        "y = df['label']\n",
        "x_train, x_test, y_train, y_test = train_test_split(x, y, test_size = 0.20)"
      ],
      "metadata": {
        "id": "fWtO6o2w3XE7"
      },
      "execution_count": 88,
      "outputs": []
    },
    {
      "cell_type": "markdown",
      "source": [
        "## Logistic regression:"
      ],
      "metadata": {
        "id": "nkhu4POfG3Ps"
      }
    },
    {
      "cell_type": "markdown",
      "source": [
        "Vectorize the data"
      ],
      "metadata": {
        "id": "-vpNdXKoA3kX"
      }
    },
    {
      "cell_type": "code",
      "source": [
        "from sklearn.feature_extraction.text import TfidfVectorizer\n",
        "vectorization = TfidfVectorizer()\n",
        "xv_train = vectorization.fit_transform(x_train)\n",
        "xv_test = vectorization.transform(x_test)"
      ],
      "metadata": {
        "id": "wgEszp5H3nk1"
      },
      "execution_count": 89,
      "outputs": []
    },
    {
      "cell_type": "code",
      "source": [
        "from sklearn.linear_model import LogisticRegression\n",
        "lr = LogisticRegression()\n",
        "lr.fit(xv_train,y_train)\n",
        "pred_lr = lr.predict(xv_test)\n",
        "from sklearn.metrics import classification_report\n",
        "print(classification_report(y_test, pred_lr))\n",
        "from sklearn.metrics import accuracy_score\n",
        "print('Model accuracy:')\n",
        "accuracy_score(y_test, pred_lr)"
      ],
      "metadata": {
        "colab": {
          "base_uri": "https://localhost:8080/"
        },
        "id": "yu3Tm8mP6Vdx",
        "outputId": "d05f8a75-63de-4cce-d016-ab62cba883cc"
      },
      "execution_count": 90,
      "outputs": [
        {
          "output_type": "stream",
          "name": "stdout",
          "text": [
            "              precision    recall  f1-score   support\n",
            "\n",
            "           0       0.96      0.97      0.96      3697\n",
            "           1       0.97      0.97      0.97      4409\n",
            "\n",
            "    accuracy                           0.97      8106\n",
            "   macro avg       0.97      0.97      0.97      8106\n",
            "weighted avg       0.97      0.97      0.97      8106\n",
            "\n",
            "Model accuracy:\n"
          ]
        },
        {
          "output_type": "execute_result",
          "data": {
            "text/plain": [
              "0.9676782630150506"
            ]
          },
          "metadata": {},
          "execution_count": 90
        }
      ]
    },
    {
      "cell_type": "markdown",
      "source": [
        "TODO: Preprocess data differently(?), apply more models(BERT, LoRa, NN(?)), Add magic"
      ],
      "metadata": {
        "id": "HHAUT8Q5HLRr"
      }
    }
  ]
}